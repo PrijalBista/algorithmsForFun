{
 "cells": [
  {
   "cell_type": "markdown",
   "metadata": {},
   "source": [
    "# A Very Simple Implementation of RSA algorithm "
   ]
  },
  {
   "cell_type": "markdown",
   "metadata": {},
   "source": [
    "## Lets State the algorithm first Its pretty straight forward and magical :)\n",
    "1. Choose any 2 very large prime numbers p and q\n",
    "2. Compute n = p*q and z = (p-1)(q-1)\n",
    "3. Choose e (e < n) that donot share common factor with z (relatively prime) \n",
    "4. Choose d such that ed-1 is exactly divisible by z i.e \n",
    "   (e*d MOD  z) = 1\n",
    "5. So assymetric keypairs are PublicKey(n,e) and PrivateKey(n,d)\n",
    "6. Encryption is performed by \n",
    "    `cyphertext( c ) = msg(m)^e MOD n`\n",
    "7. And Decryption is performed by\n",
    "    `m = c^d MOD n `\n"
   ]
  },
  {
   "cell_type": "code",
   "execution_count": 2,
   "metadata": {},
   "outputs": [],
   "source": [
    "## Using rabinMiller to generate large prime number"
   ]
  },
  {
   "cell_type": "code",
   "execution_count": 20,
   "metadata": {},
   "outputs": [],
   "source": [
    "import random\n",
    "def rabinMiller(num):\n",
    "   s = num - 1\n",
    "   t = 0\n",
    "   \n",
    "   while s % 2 == 0:\n",
    "      s = s // 2\n",
    "      t += 1\n",
    "   for trials in range(5):\n",
    "      a = random.randrange(2, num - 1)\n",
    "      v = pow(a, s, num)\n",
    "      if v != 1:\n",
    "         i = 0\n",
    "         while v != (num - 1):\n",
    "            if i == t - 1:\n",
    "               return False\n",
    "            else:\n",
    "               i = i + 1\n",
    "               v = (v ** 2) % num\n",
    "      return True\n",
    "def isPrime(num):\n",
    "   if (num < 2):\n",
    "      return False\n",
    "   lowPrimes = [2, 3, 5, 7, 11, 13, 17, 19, 23, 29, 31, 37, 41, 43, 47, 53, 59, 61, \n",
    "   67, 71, 73, 79, 83, 89, 97, 101, 103, 107, 109, 113, 127, 131, 137, 139, 149, 151, \n",
    "   157, 163, 167, 173, 179, 181, 191, 193, 197, 199, 211, 223, 227, 229, 233, 239, 241, \n",
    "   251, 257, 263, 269, 271, 277, 281, 283, 293, 307, 311, 313,317, 331, 337, 347, 349, \n",
    "   353, 359, 367, 373, 379, 383, 389, 397, 401, 409, 419, 421, 431, 433, 439, 443, 449, \n",
    "   457, 461, 463, 467, 479, 487, 491, 499, 503, 509, 521, 523, 541, 547, 557, 563, 569, \n",
    "   571, 577, 587, 593, 599, 601, 607, 613, 617, 619, 631, 641, 643, 647, 653, 659, 661, \n",
    "   673, 677, 683, 691, 701, 709, 719, 727, 733, 739, 743, 751, 757, 761, 769, 773, 787, \n",
    "   797, 809, 811, 821, 823, 827, 829, 839, 853, 857, 859, 863, 877, 881, 883, 887, 907, \n",
    "   911, 919, 929, 937, 941, 947, 953, 967, 971, 977, 983, 991, 997]\n",
    "   if num in lowPrimes:\n",
    "      return True\n",
    "   for prime in lowPrimes:\n",
    "      if (num % prime == 0):\n",
    "         return False\n",
    "   return rabinMiller(num)\n",
    "def generateLargePrime(keysize = 1024):\n",
    "   while True:\n",
    "      num = random.randrange(2**(keysize-1), 2**(keysize))\n",
    "      if isPrime(num):\n",
    "         return num"
   ]
  },
  {
   "cell_type": "markdown",
   "metadata": {},
   "source": [
    "## using some cryptomaths methods .. \n",
    "1. finding gcd(HCF) to\n",
    "2. finding Mod Inverse \n",
    "    e*d MOD z =1 \n",
    "    ed = invMOD(e,z)"
   ]
  },
  {
   "cell_type": "code",
   "execution_count": 13,
   "metadata": {},
   "outputs": [],
   "source": [
    "def gcd(a, b):\n",
    "   while a != 0:\n",
    "      a, b = b % a, a\n",
    "   return b\n",
    "\n",
    "def findModInverse(a, m):\n",
    "   if gcd(a, m) != 1:\n",
    "      return None\n",
    "   u1, u2, u3 = 1, 0, a\n",
    "   v1, v2, v3 = 0, 1, m\n",
    "   \n",
    "   while v3 != 0:\n",
    "        q = u3 // v3\n",
    "        v1, v2, v3, u1, u2, u3 = (u1 - q * v1), (u2 - q * v2), (u3 - q * v3), v1, v2, v3\n",
    "   return u1 % m"
   ]
  },
  {
   "cell_type": "code",
   "execution_count": 14,
   "metadata": {},
   "outputs": [],
   "source": [
    "import random"
   ]
  },
  {
   "cell_type": "code",
   "execution_count": 15,
   "metadata": {},
   "outputs": [],
   "source": [
    "## Implementation"
   ]
  },
  {
   "cell_type": "code",
   "execution_count": 105,
   "metadata": {},
   "outputs": [],
   "source": [
    "def generateKey(keySize):\n",
    "    #STEP1 : Create 2 prime numbers\n",
    "    print('Generating p and q prime numbers')\n",
    "    p = generateLargePrime(keySize)\n",
    "    q = generateLargePrime(keySize)\n",
    "    \n",
    "    #Step2 : Compute n=p*q and z=(p-1)(q-1)\n",
    "    print('Compute n and z')\n",
    "    n = p * q\n",
    "    z = (p-1) * (q-1)\n",
    "    \n",
    "    #Step3 : Compute e<n that has no common factors with z (relatively prime)\n",
    "    print('Calculating e')\n",
    "    while True:\n",
    "        e = random.randrange(2**(keySize-1),2**(keySize))\n",
    "        if gcd(e,z)==1:\n",
    "            break\n",
    "    #Step4 : Compute d such that ed MOD z = 1\n",
    "    print('Calculating d')\n",
    "    d = findModInverse(e,z)\n",
    "    #Step5 : Finally assign public and private keys\n",
    "    publicKey = (n,e)\n",
    "    privateKey = (n,d)\n",
    "    print('Public Key',publicKey)\n",
    "    print('Private Key',privateKey)\n",
    "    return publicKey,privateKey"
   ]
  },
  {
   "cell_type": "code",
   "execution_count": 150,
   "metadata": {},
   "outputs": [
    {
     "name": "stdout",
     "output_type": "stream",
     "text": [
      "Generating p and q prime numbers\n",
      "Compute n and z\n",
      "Calculating e\n",
      "Calculating d\n",
      "Public Key (143, 13)\n",
      "Private Key (143, 37)\n"
     ]
    }
   ],
   "source": [
    "publicKey,privateKey = generateKey(4)"
   ]
  },
  {
   "cell_type": "code",
   "execution_count": 151,
   "metadata": {},
   "outputs": [],
   "source": [
    "def Encrypt(msg,Key):\n",
    "    c ='';\n",
    "    for i in range(len(msg)):\n",
    "        mi = ord(msg[i])\n",
    "        ch = (mi**Key[1]) % Key[0]\n",
    "        c += chr(ch)\n",
    "    return c\n",
    "    "
   ]
  },
  {
   "cell_type": "code",
   "execution_count": 152,
   "metadata": {},
   "outputs": [
    {
     "data": {
      "text/plain": [
       "'\\x07'"
      ]
     },
     "execution_count": 152,
     "metadata": {},
     "output_type": "execute_result"
    }
   ],
   "source": [
    "encryptedMsg= Encrypt(\"H\",publicKey)\n",
    "encryptedMsg"
   ]
  },
  {
   "cell_type": "code",
   "execution_count": 153,
   "metadata": {},
   "outputs": [],
   "source": [
    "def Decrypt(cyphertext,Key):\n",
    "    msg =''\n",
    "    for i in range(len(cyphertext)):\n",
    "        ci = ord(cyphertext[i])\n",
    "        mh = (ci**Key[1] % Key[0])\n",
    "        msg += chr(mh)\n",
    "    return msg"
   ]
  },
  {
   "cell_type": "code",
   "execution_count": 155,
   "metadata": {},
   "outputs": [
    {
     "data": {
      "text/plain": [
       "'H'"
      ]
     },
     "execution_count": 155,
     "metadata": {},
     "output_type": "execute_result"
    }
   ],
   "source": [
    "origMsg = Decrypt(encryptedMsg,privateKey)\n",
    "origMsg"
   ]
  },
  {
   "cell_type": "code",
   "execution_count": 159,
   "metadata": {},
   "outputs": [
    {
     "name": "stdout",
     "output_type": "stream",
     "text": [
      "...encrypting\n",
      "Encrypted Msg : p :m 3%3(n@ 3\u001a(% :E@oK(3\u001amU\n",
      "...decrypting\n",
      "Decrypted Msg :  I am testing this algorithm.\n"
     ]
    }
   ],
   "source": [
    "mymsg = \"I am testing this algorithm.\"\n",
    "print('...encrypting')\n",
    "c = Encrypt(mymsg,publicKey)\n",
    "print('Encrypted Msg :',c)\n",
    "print('...decrypting')\n",
    "d = Decrypt(c,privateKey)\n",
    "print('Decrypted Msg : ',d)"
   ]
  },
  {
   "cell_type": "markdown",
   "metadata": {},
   "source": [
    "## References\n",
    "[Understanding RSA](https://www.tutorialspoint.com/cryptography_with_python/cryptography_with_python_understanding_rsa_algorithm.htm)"
   ]
  },
  {
   "cell_type": "markdown",
   "metadata": {},
   "source": [
    "> This is not made for use in production  ...."
   ]
  },
  {
   "cell_type": "code",
   "execution_count": null,
   "metadata": {},
   "outputs": [],
   "source": []
  }
 ],
 "metadata": {
  "kernelspec": {
   "display_name": "Python 3",
   "language": "python",
   "name": "python3"
  },
  "language_info": {
   "codemirror_mode": {
    "name": "ipython",
    "version": 3
   },
   "file_extension": ".py",
   "mimetype": "text/x-python",
   "name": "python",
   "nbconvert_exporter": "python",
   "pygments_lexer": "ipython3",
   "version": "3.6.6"
  }
 },
 "nbformat": 4,
 "nbformat_minor": 2
}
